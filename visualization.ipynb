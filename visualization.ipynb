{
 "cells": [
  {
   "cell_type": "code",
   "execution_count": 2,
   "id": "678d163f-9fc8-435d-9e61-8a0050344a7a",
   "metadata": {},
   "outputs": [
    {
     "name": "stdout",
     "output_type": "stream",
     "text": [
      "Using device: cuda\n",
      "\n",
      "NVIDIA GeForce RTX 2080 Ti\n",
      "Memory Usage:\n",
      "Allocated: 0.0 GB\n",
      "Cached:    0.0 GB\n"
     ]
    }
   ],
   "source": [
    "# setting device on GPU if available, else CPU\n",
    "import torch\n",
    "\n",
    "device = torch.device(\"cuda\" if torch.cuda.is_available() else \"cpu\")\n",
    "print(\"Using device:\", device)\n",
    "print()\n",
    "\n",
    "# Additional Info when using cuda\n",
    "if device.type == \"cuda\":\n",
    "    print(torch.cuda.get_device_name(0))\n",
    "    print(\"Memory Usage:\")\n",
    "    print(\"Allocated:\", round(torch.cuda.memory_allocated(0) / 1024**3, 1), \"GB\")\n",
    "    print(\"Cached:   \", round(torch.cuda.memory_reserved(0) / 1024**3, 1), \"GB\")"
   ]
  },
  {
   "cell_type": "code",
   "execution_count": 3,
   "id": "cf11edbb-02e4-40b0-8d1e-b2eaeb7b9ceb",
   "metadata": {},
   "outputs": [],
   "source": [
    "%load_ext autoreload\n",
    "%autoreload 2\n",
    "%matplotlib inline"
   ]
  },
  {
   "cell_type": "code",
   "execution_count": 4,
   "id": "3caed8ae-1fd9-4f44-aae7-fccb1389d85f",
   "metadata": {},
   "outputs": [],
   "source": [
    "import torch\n",
    "from os.path import join as pjoin\n",
    "import math\n",
    "import torch\n",
    "import os\n",
    "import numpy as np\n",
    "import pickle\n",
    "from glob import glob\n",
    "import random\n",
    "from tqdm import tqdm"
   ]
  },
  {
   "cell_type": "code",
   "execution_count": 5,
   "id": "7b52f3a3-5b95-4abd-9f82-07dcfd0ae8a9",
   "metadata": {},
   "outputs": [],
   "source": [
    "def findAllFile(base):\n",
    "    \"\"\"\n",
    "    Recursively find all files in the specified directory.\n",
    "\n",
    "    Args:\n",
    "        base (str): The base directory to start the search.\n",
    "\n",
    "    Returns:\n",
    "        list: A list of file paths found in the directory and its subdirectories.\n",
    "    \"\"\"\n",
    "    file_path = []\n",
    "    for root, ds, fs in os.walk(base, followlinks=True):\n",
    "        for f in fs:\n",
    "            fullname = os.path.join(root, f)\n",
    "            file_path.append(fullname)\n",
    "    return file_path"
   ]
  },
  {
   "cell_type": "code",
   "execution_count": 70,
   "id": "fea1f816-4a23-4505-a8c8-35f30a269c81",
   "metadata": {},
   "outputs": [],
   "source": [
    "from motion_representation import recover_from_ric\n",
    "import vis_utils.plot_3d_global as plot_3d"
   ]
  },
  {
   "cell_type": "code",
   "execution_count": 63,
   "id": "bca29931-36a2-40e7-b944-38cbeaff34a2",
   "metadata": {},
   "outputs": [],
   "source": [
    "motion_files = findAllFile(\n",
    "    \"/srv/hays-lab/scratch/sanisetty3/motionx/motion_data/new_joint_vecs/beatx\"\n",
    ")"
   ]
  },
  {
   "cell_type": "code",
   "execution_count": 64,
   "id": "d08a239a-577c-4f55-b27e-e1950b02872e",
   "metadata": {},
   "outputs": [],
   "source": [
    "hml_data = np.load(motion_files[0])"
   ]
  },
  {
   "cell_type": "code",
   "execution_count": null,
   "id": "1f9453b3-4c5d-44f0-9cbb-5583d7ed293e",
   "metadata": {},
   "outputs": [],
   "source": []
  },
  {
   "cell_type": "code",
   "execution_count": 66,
   "id": "9254c02b-52a3-42ab-a902-0e5c5f81c2ee",
   "metadata": {},
   "outputs": [],
   "source": [
    "joint_num = 52\n",
    "body_joints = 22\n",
    "hand_joints = 30\n",
    "use_rotation = False\n",
    "save_file = (\n",
    "    \"/srv/hays-lab/scratch/sanisetty3/music_motion/Motion-X/hml_smplx_rep/render\"\n",
    ")"
   ]
  },
  {
   "cell_type": "code",
   "execution_count": 67,
   "id": "59b3e0b4-d935-4cf0-96d7-e88d2adba41a",
   "metadata": {},
   "outputs": [],
   "source": [
    "gt_motion_xyz = recover_from_ric(torch.Tensor(hml_data), 22)"
   ]
  },
  {
   "cell_type": "code",
   "execution_count": 68,
   "id": "7135c494-79aa-492c-8ed4-a30ecb7cf49b",
   "metadata": {},
   "outputs": [
    {
     "data": {
      "text/plain": [
       "torch.Size([3482, 22, 3])"
      ]
     },
     "execution_count": 68,
     "metadata": {},
     "output_type": "execute_result"
    }
   ],
   "source": [
    "gt_motion_xyz.shape"
   ]
  },
  {
   "cell_type": "code",
   "execution_count": 72,
   "id": "be8a475d-b754-4de9-a43d-e09a80abe295",
   "metadata": {},
   "outputs": [
    {
     "name": "stdout",
     "output_type": "stream",
     "text": [
      "(500, 22, 3)\n"
     ]
    }
   ],
   "source": [
    "plot_3d.render(\n",
    "    gt_motion_xyz.numpy().squeeze()[:500],\n",
    "    os.path.join(save_file, \"beatx.gif\"),\n",
    ")"
   ]
  },
  {
   "cell_type": "code",
   "execution_count": null,
   "id": "8de636a8-15a6-4886-8e6f-a40bee8a8504",
   "metadata": {},
   "outputs": [],
   "source": []
  },
  {
   "cell_type": "code",
   "execution_count": null,
   "id": "3e234ef7-578f-46f3-bf0a-bffdb4c2c81b",
   "metadata": {},
   "outputs": [],
   "source": []
  }
 ],
 "metadata": {
  "kernelspec": {
   "display_name": "Python 3 (ipykernel)",
   "language": "python",
   "name": "python3"
  },
  "language_info": {
   "codemirror_mode": {
    "name": "ipython",
    "version": 3
   },
   "file_extension": ".py",
   "mimetype": "text/x-python",
   "name": "python",
   "nbconvert_exporter": "python",
   "pygments_lexer": "ipython3",
   "version": "3.9.18"
  }
 },
 "nbformat": 4,
 "nbformat_minor": 5
}
